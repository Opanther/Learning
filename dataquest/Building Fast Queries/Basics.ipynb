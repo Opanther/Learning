{
 "cells": [
  {
   "cell_type": "markdown",
   "metadata": {},
   "source": [
    "# Building Fast Queries on a CSV\n",
    "\n",
    "In this guided project,I'll be working on solving an online laptop store problem on how to build solutions to answer different business questions about our inventory. I will be using my dataset file as my invebntory. This file was adapted from the [Laptop Prices dataset on Kaggle] (https://www.kaggle.com/ionaskel/laptop-prices \"Laptop Prices dataset on Kaggle\"). The IDs and made the prices integers.\n",
    "Here is a brief description of the rows:\n",
    "\n",
    "- *ID*: A unique identifier for the laptop.\n",
    "- *Company*: The name of the company that produces the laptop.\n",
    "- *Product*: The name of the laptop.\n",
    "- *TypeName*: The type of laptop.\n",
    "- *Inches*: The size of the screen in inches.\n",
    "- *ScreenResolution*: The resolution of the screen.\n",
    "- *CPU*: The laptop CPU.\n",
    "- *RAM*: The amount of RAM in the laptop.\n",
    "- *Memory*: The size of the hard drive.\n",
    "- *GPU*: The graphics card name.\n",
    "- *OpSys*: The name of the operating system.\n",
    "- *Weight*: The laptop weight.\n",
    "- *Price*: The price of the laptop."
   ]
  },
  {
   "cell_type": "code",
   "execution_count": 1,
   "metadata": {},
   "outputs": [],
   "source": [
    "import csv \n"
   ]
  },
  {
   "cell_type": "code",
   "execution_count": 2,
   "metadata": {},
   "outputs": [
    {
     "name": "stdout",
     "output_type": "stream",
     "text": [
      "['Id', 'Company', 'Product', 'TypeName', 'Inches', 'ScreenResolution', 'Cpu', 'Ram', 'Memory', 'Gpu', 'OpSys', 'Weight', 'Price']\n",
      "[['6571244', 'Apple', 'MacBook Pro', 'Ultrabook', '13.3', 'IPS Panel Retina Display 2560x1600', 'Intel Core i5 2.3GHz', '8GB', '128GB SSD', 'Intel Iris Plus Graphics 640', 'macOS', '1.37kg', '1339'], ['7287764', 'Apple', 'Macbook Air', 'Ultrabook', '13.3', '1440x900', 'Intel Core i5 1.8GHz', '8GB', '128GB Flash Storage', 'Intel HD Graphics 6000', 'macOS', '1.34kg', '898'], ['3362737', 'HP', '250 G6', 'Notebook', '15.6', 'Full HD 1920x1080', 'Intel Core i5 7200U 2.5GHz', '8GB', '256GB SSD', 'Intel HD Graphics 620', 'No OS', '1.86kg', '575'], ['9722156', 'Apple', 'MacBook Pro', 'Ultrabook', '15.4', 'IPS Panel Retina Display 2880x1800', 'Intel Core i7 2.7GHz', '16GB', '512GB SSD', 'AMD Radeon Pro 455', 'macOS', '1.83kg', '2537'], ['8550527', 'Apple', 'MacBook Pro', 'Ultrabook', '13.3', 'IPS Panel Retina Display 2560x1600', 'Intel Core i5 3.1GHz', '8GB', '256GB SSD', 'Intel Iris Plus Graphics 650', 'macOS', '1.37kg', '1803']]\n"
     ]
    }
   ],
   "source": [
    "with open ('laptops.csv') as file:\n",
    "    reader = csv.reader(file)\n",
    "    rows = list(reader)\n",
    "    header = rows[0]\n",
    "    rows = rows[1:]\n",
    "print(header)\n",
    "print(rows[:5])"
   ]
  },
  {
   "cell_type": "markdown",
   "metadata": {},
   "source": [
    "The goal of this guided project is to create a class that represents our inventory. The methods in that class will implement the queries that I want to answer about the inventory. I will also preprocess the to make those queries run faster. \n",
    "\n",
    "Listed below is some of the queries i want to answer: \n",
    "\n",
    "- Given a laptop ID, find the corresponding data.\n",
    "- Given an amount of money, find whether there are two laptops whose total price is that given amount.\n",
    "- identify all laptops whose price falls within a given budget."
   ]
  },
  {
   "cell_type": "code",
   "execution_count": 3,
   "metadata": {},
   "outputs": [
    {
     "name": "stdout",
     "output_type": "stream",
     "text": [
      "['Id', 'Company', 'Product', 'TypeName', 'Inches', 'ScreenResolution', 'Cpu', 'Ram', 'Memory', 'Gpu', 'OpSys', 'Weight', 'Price']\n",
      "1303\n"
     ]
    }
   ],
   "source": [
    "# Create a class \n",
    "\n",
    "class Inventory():                     # Step 1 \n",
    "    def __init__(self, csv_filename):  # Step 2 \n",
    "        with open(csv_filename) as f:  # step 3\n",
    "            reader = csv.reader(f)\n",
    "            rows = list(reader)\n",
    "        self.header = rows[0]         # step 4\n",
    "        self.rows = rows[1:]\n",
    "        for row in self.rows:         # step 5\n",
    "            row[-1] = int(row[-1])\n",
    "\n",
    "# Testing my class            \n",
    "inventory = Inventory('laptops.csv')\n",
    "print(inventory.header)\n",
    "print(len(inventory.rows))\n",
    "        "
   ]
  },
  {
   "cell_type": "markdown",
   "metadata": {},
   "source": [
    "## Finding a laptop from the ID\n",
    "\n",
    "The first thing I will implement is a way to look up a laptop from a given identifier. In this way, when a customer comes to our store with a purchase slip, the store can quickly identify the laptop to which it corresponds. "
   ]
  },
  {
   "cell_type": "code",
   "execution_count": 4,
   "metadata": {},
   "outputs": [],
   "source": [
    "class Inventory():                     # Step 1 \n",
    "    def __init__(self, csv_filename):  # Step 2 \n",
    "        with open(csv_filename) as f:  # step 3\n",
    "            reader = csv.reader(f)\n",
    "            rows = list(reader)\n",
    "        self.header = rows[0]         # step 4\n",
    "        self.rows = rows[1:]\n",
    "        for row in self.rows:         # step 5\n",
    "            row[-1] = int(row[-1])\n",
    "    def get_laptop_from_id(self, laptop_id): # Finding laptop ID Class\n",
    "        for row in self.rows: \n",
    "            if row[0] == laptop_id: \n",
    "                return row\n",
    "            \n",
    "\n"
   ]
  },
  {
   "cell_type": "code",
   "execution_count": 5,
   "metadata": {},
   "outputs": [
    {
     "name": "stdout",
     "output_type": "stream",
     "text": [
      "['3362737', 'HP', '250 G6', 'Notebook', '15.6', 'Full HD 1920x1080', 'Intel Core i5 7200U 2.5GHz', '8GB', '256GB SSD', 'Intel HD Graphics 620', 'No OS', '1.86kg', 575]\n",
      "None\n"
     ]
    }
   ],
   "source": [
    "inventory = Inventory('laptops.csv')           # creating a new instance of the Inventory class\n",
    "print(inventory.get_laptop_from_id('3362737')) \n",
    "print(inventory.get_laptop_from_id('3362736'))"
   ]
  },
  {
   "cell_type": "markdown",
   "metadata": {},
   "source": [
    "## Improving the Id Lookup\n",
    "\n",
    "Using a set, we can check in constant time whether a given identifier exists. However, we don't just want to know if it exists, we also want to retrieve the remaining row information. Therefore, we will use a dictionary instead of a set. Dictionaries have the same fast lookup properties that sets have, but allow us to associate values to the keys.\n",
    "\n",
    "In our dataset, we only have about 1,300 laptops, so it might seem unnecessary to improve the performance of this query. However, you have to imagine that this code could be used in situations where the inventory contains millions of rows. Also, if we perform a lot of queries, even on a small dataset, the slow query performance will start to add up. It might eventually become the bottleneck of the application."
   ]
  },
  {
   "cell_type": "code",
   "execution_count": 6,
   "metadata": {},
   "outputs": [],
   "source": [
    "class Inventory():                     \n",
    "    def __init__(self, csv_filename):  \n",
    "        with open(csv_filename) as f:  \n",
    "            reader = csv.reader(f)\n",
    "            rows = list(reader)\n",
    "        self.header = rows[0]        \n",
    "        self.rows = rows[1:]\n",
    "        for row in self.rows:        \n",
    "            row[-1] = int(row[-1])\n",
    "        self.id_to_row = {}          # step 1 \n",
    "        for row in self.rows:        # step 2 \n",
    "            self.id_to_row[row[0]] = row \n",
    "    def get_laptop_from_id(self, laptop_id): # Finding laptop ID Class\n",
    "        for row in self.rows: \n",
    "            if row[0] == laptop_id: \n",
    "                return row\n",
    "    def get_laptop_from_id_fast(self, laptop_id):   # Step 3 \n",
    "        if laptop_id in self.id_to_row:\n",
    "            return self.id_to_row[laptop_id]        # Step 4 \n",
    "        return None \n",
    "   "
   ]
  },
  {
   "cell_type": "markdown",
   "metadata": {},
   "source": [
    "## Testing the code "
   ]
  },
  {
   "cell_type": "code",
   "execution_count": 7,
   "metadata": {},
   "outputs": [
    {
     "name": "stdout",
     "output_type": "stream",
     "text": [
      "['3362737', 'HP', '250 G6', 'Notebook', '15.6', 'Full HD 1920x1080', 'Intel Core i5 7200U 2.5GHz', '8GB', '256GB SSD', 'Intel HD Graphics 620', 'No OS', '1.86kg', 575]\n",
      "None\n"
     ]
    }
   ],
   "source": [
    "inventory = Inventory('laptops.csv')                # step 5\n",
    "print(inventory.get_laptop_from_id_fast('3362737')) # step 6\n",
    "print(inventory.get_laptop_from_id_fast('3362736')) # step 7"
   ]
  },
  {
   "cell_type": "markdown",
   "metadata": {},
   "source": [
    "To compare the perfromance of the two methods. The idea is to generate random IDS using the *random* module. Then, use both methods to lookup these same IDs. We will use the *time* module to measure the executuion time of each lookup and for each method, add all times togther. "
   ]
  },
  {
   "cell_type": "code",
   "execution_count": 8,
   "metadata": {},
   "outputs": [
    {
     "name": "stdout",
     "output_type": "stream",
     "text": [
      "0.9470508098602295\n",
      "0.0048444271087646484\n"
     ]
    }
   ],
   "source": [
    "import time # step 1 \n",
    "import random # step 2\n",
    "ids = [str(random.randint(1000000, 9999999))  for _ in range (10000 )] # Step 3 list comprehension example\n",
    "inventory = Inventory('laptops.csv') # step 4 \n",
    "total_time_no_dict = 0  # step 5 \n",
    "for identifier in ids: \n",
    "    start = time.time() # Step 6 \n",
    "    inventory.get_laptop_from_id(identifier)\n",
    "    end = time.time() \n",
    "    total_time_no_dict += end - start \n",
    "total_time_dict = 0  # Step 7 \n",
    "for identifier in ids:\n",
    "    start = time.time() # Step 8 \n",
    "    inventory.get_laptop_from_id_fast(identifier)\n",
    "    end = time.time() \n",
    "    total_time_dict += end - start \n",
    "print(total_time_no_dict) # Step 9 \n",
    "print(total_time_dict)\n",
    "    \n",
    "\n"
   ]
  },
  {
   "cell_type": "markdown",
   "metadata": {},
   "source": [
    "## Analysis \n",
    "\n",
    "looking at the performance results above, we can see that there is a difference of 188.2 times in methods. This difference is calculated by dividing the results. "
   ]
  },
  {
   "cell_type": "markdown",
   "metadata": {},
   "source": [
    "## Laptop promotion\n",
    "\n",
    "Write a function that, given a dollar amount, checks whether it is possible to spend precisely that amount by purchasing up to two laptops "
   ]
  },
  {
   "cell_type": "code",
   "execution_count": 9,
   "metadata": {},
   "outputs": [
    {
     "name": "stdout",
     "output_type": "stream",
     "text": [
      "True\n",
      "False\n"
     ]
    }
   ],
   "source": [
    "class Inventory():                     \n",
    "    def __init__(self, csv_filename):  \n",
    "        with open(csv_filename) as f:  \n",
    "            reader = csv.reader(f)\n",
    "            rows = list(reader)\n",
    "        self.header = rows[0]        \n",
    "        self.rows = rows[1:]\n",
    "        for row in self.rows:        \n",
    "            row[-1] = int(row[-1])\n",
    "        self.id_to_row = {}           \n",
    "        for row in self.rows:         \n",
    "            self.id_to_row[row[0]] = row \n",
    "    def get_laptop_from_id(self, laptop_id): \n",
    "        for row in self.rows: \n",
    "            if row[0] == laptop_id: \n",
    "                return row\n",
    "    def get_laptop_from_id_fast(self, laptop_id):   \n",
    "        if laptop_id in self.id_to_row:\n",
    "            return self.id_to_row[laptop_id]        \n",
    "        return None \n",
    "    def check_promotion_dollars(self, dollars):  # Step 1 \n",
    "        for row in self.rows:                    # Step 2 \n",
    "            if dollars == row[-1]:\n",
    "                return True\n",
    "        for row1 in self.rows:                   # Step 3 \n",
    "            for row2 in self.rows:\n",
    "                if row1[-1] + row2[-1] == dollars:\n",
    "                    return True \n",
    "        return False                             # Step 4 \n",
    "    \n",
    "inventory = Inventory('laptops.csv')                # step 5\n",
    "print(inventory.check_promotion_dollars(1000))    # step 6\n",
    "print(inventory.check_promotion_dollars(442))     # step 7   \n"
   ]
  },
  {
   "cell_type": "markdown",
   "metadata": {},
   "source": [
    "## Optimizing Laptop Promotion Code \n",
    "\n"
   ]
  },
  {
   "cell_type": "code",
   "execution_count": 10,
   "metadata": {},
   "outputs": [],
   "source": [
    "class Inventory():                     \n",
    "    def __init__(self, csv_filename):  \n",
    "        with open(csv_filename) as f:  \n",
    "            reader = csv.reader(f)\n",
    "            rows = list(reader)\n",
    "        self.header = rows[0]        \n",
    "        self.rows = rows[1:]\n",
    "        for row in self.rows:        \n",
    "            row[-1] = int(row[-1])\n",
    "        self.id_to_row = {}           \n",
    "        for row in self.rows:         \n",
    "            self.id_to_row[row[0]] = row \n",
    "        self.prices = set()                    # step 1 # Create an empty set with the set funtion.\n",
    "        for row in self.rows:               # step 2 \n",
    "            self.prices.add(row[-1])\n",
    "    def get_laptop_from_id(self, laptop_id): \n",
    "        for row in self.rows: \n",
    "            if row[0] == laptop_id: \n",
    "                return row\n",
    "    def get_laptop_from_id_fast(self, laptop_id):   \n",
    "        if laptop_id in self.id_to_row:\n",
    "            return self.id_to_row[laptop_id]        \n",
    "        return None \n",
    "    def check_promotion_dollars(self, dollars):  \n",
    "        for row in self.rows:                     \n",
    "            if dollars == row[-1]:\n",
    "                return True\n",
    "        for row1 in self.rows:                    \n",
    "            for row2 in self.rows:\n",
    "                if row1[-1] + row2[-1] == dollars:\n",
    "                    return True \n",
    "        return False  \n",
    "    def check_promotion_dollars_fast(self, dollars):  # Step 3 \n",
    "        if dollars in self.prices:                    # Step 4 \n",
    "            return True \n",
    "        for price in self.prices:                     # Step 5 \n",
    "            if dollars - price in self.prices:\n",
    "                return True \n",
    "            return False                              # Step 6 \n",
    "\n",
    "        \n",
    "        \n",
    "        "
   ]
  },
  {
   "cell_type": "code",
   "execution_count": null,
   "metadata": {},
   "outputs": [],
   "source": []
  },
  {
   "cell_type": "markdown",
   "metadata": {},
   "source": [
    "## Testing the code "
   ]
  },
  {
   "cell_type": "code",
   "execution_count": 11,
   "metadata": {},
   "outputs": [
    {
     "name": "stdout",
     "output_type": "stream",
     "text": [
      "True\n",
      "False\n"
     ]
    }
   ],
   "source": [
    "inventory = Inventory('laptops.csv')                # step 7\n",
    "print(inventory.check_promotion_dollars_fast(1000))    # step 8 \n",
    "print(inventory.check_promotion_dollars_fast(442))     # step 9   "
   ]
  },
  {
   "cell_type": "code",
   "execution_count": 12,
   "metadata": {},
   "outputs": [
    {
     "name": "stdout",
     "output_type": "stream",
     "text": [
      "2.1450161933898926\n",
      "8.726119995117188e-05\n"
     ]
    }
   ],
   "source": [
    "prices = [random.randint(100, 5000) for _ in range(100)] # step 1\n",
    "\n",
    "inventory = Inventory('laptops.csv')                     # step 2\n",
    "\n",
    "total_time_no_set = 0                                    # step 3\n",
    "for price in prices:                                     # step 4\n",
    "    start = time.time()                                  # step 4.1\n",
    "    inventory.check_promotion_dollars(price)             # step 4.2\n",
    "    end = time.time()                                    # step 4.3\n",
    "    total_time_no_set += end - start                     # step 4.4\n",
    "    \n",
    "total_time_set = 0                                       # step 5\n",
    "for price in prices:                                     # step 6\n",
    "    start = time.time()                                  # step 6.1\n",
    "    inventory.check_promotion_dollars_fast(price)        # step 6.2\n",
    "    end = time.time()                                    # step 6.3\n",
    "    total_time_set += end - start                        # step 6.4\n",
    "    \n",
    "print(total_time_no_set)                                 # step 7\n",
    "print(total_time_set)"
   ]
  },
  {
   "cell_type": "markdown",
   "metadata": {},
   "source": [
    "## Analysis \n",
    "\n",
    "Looking at the result above there is differeance in performance of 8862 Times. \n"
   ]
  },
  {
   "cell_type": "markdown",
   "metadata": {},
   "source": [
    "## Finding Laptops with a Budget. \n",
    "\n"
   ]
  },
  {
   "cell_type": "code",
   "execution_count": 15,
   "metadata": {},
   "outputs": [
    {
     "name": "stdout",
     "output_type": "stream",
     "text": [
      "683\n",
      "-1\n"
     ]
    }
   ],
   "source": [
    "\n",
    "def row_price(row):\n",
    "    return row[-1]\n",
    "\n",
    "class Inventory():                     \n",
    "    def __init__(self, csv_filename):  \n",
    "        with open(csv_filename) as f:  \n",
    "            reader = csv.reader(f)\n",
    "            rows = list(reader)\n",
    "        self.header = rows[0]        \n",
    "        self.rows = rows[1:]\n",
    "        for row in self.rows:        \n",
    "            row[-1] = int(row[-1])\n",
    "        self.id_to_row = {}           \n",
    "        for row in self.rows:         \n",
    "            self.id_to_row[row[0]] = row \n",
    "        self.prices = set()                    \n",
    "        for row in self.rows:               \n",
    "            self.prices.add(row[-1])\n",
    "        self.rows_by_price = sorted(self.rows, key=row_price) # Step 1 \n",
    "    def get_laptop_from_id(self, laptop_id): \n",
    "        for row in self.rows: \n",
    "            if row[0] == laptop_id: \n",
    "                return row\n",
    "    def get_laptop_from_id_fast(self, laptop_id):   \n",
    "        if laptop_id in self.id_to_row:\n",
    "            return self.id_to_row[laptop_id]        \n",
    "        return None \n",
    "    def check_promotion_dollars(self, dollars):  \n",
    "        for row in self.rows:                     \n",
    "            if dollars == row[-1]:\n",
    "                return True\n",
    "        for row1 in self.rows:                    \n",
    "            for row2 in self.rows:\n",
    "                if row1[-1] + row2[-1] == dollars:\n",
    "                    return True \n",
    "        return False  \n",
    "    def check_promotion_dollars_fast(self, dollars):   \n",
    "        if dollars in self.prices:                     \n",
    "            return True \n",
    "        for price in self.prices:                     \n",
    "            if dollars - price in self.prices:\n",
    "                return True \n",
    "            return False  \n",
    "    def find_laptop_with_price(self, target_price):\n",
    "        range_start = 0                                   \n",
    "        range_end = len(self.rows_by_price) - 1                       \n",
    "        while range_start < range_end:\n",
    "            range_middle = (range_end + range_start) // 2  \n",
    "            value = self.rows_by_price[range_middle][-1]\n",
    "            if value == target_price:                            \n",
    "                return range_middle                        \n",
    "            elif value < target_price:                           \n",
    "                range_start = range_middle + 1             \n",
    "            else:                                          \n",
    "                range_end = range_middle - 1 \n",
    "        if self.rows_by_price[range_start][-1] != target_price:                  \n",
    "            return -1                                      \n",
    "        return range_start\n",
    "    \n",
    "    def find_first_laptop_more_expensive(self, target_price): # optimisation of binary serach \n",
    "        range_start = 0                                   \n",
    "        range_end = len(self.rows_by_price) - 1                   \n",
    "        while range_start < range_end:\n",
    "            range_middle = (range_end + range_start) // 2  \n",
    "            price = self.rows_by_price[range_middle][-1]\n",
    "            if price > target_price:\n",
    "                range_end = range_middle\n",
    "            else:\n",
    "                range_start = range_middle + 1\n",
    "        if self.rows_by_price[range_start][-1] <= target_price:                  \n",
    "            return -1                                   \n",
    "        return range_start\n",
    "\n",
    "inventory = Inventory('laptops.csv')                     # Step 3            \n",
    "print(inventory.find_first_laptop_more_expensive(1000))  # Step 4\n",
    "print(inventory.find_first_laptop_more_expensive(10000))"
   ]
  }
 ],
 "metadata": {
  "kernelspec": {
   "display_name": "Python 3",
   "language": "python",
   "name": "python3"
  },
  "language_info": {
   "codemirror_mode": {
    "name": "ipython",
    "version": 3
   },
   "file_extension": ".py",
   "mimetype": "text/x-python",
   "name": "python",
   "nbconvert_exporter": "python",
   "pygments_lexer": "ipython3",
   "version": "3.8.2"
  }
 },
 "nbformat": 4,
 "nbformat_minor": 2
}
