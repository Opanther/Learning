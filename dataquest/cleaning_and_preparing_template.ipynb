{
 "metadata": {
  "language_info": {
   "codemirror_mode": {
    "name": "ipython",
    "version": 3
   },
   "file_extension": ".py",
   "mimetype": "text/x-python",
   "name": "python",
   "nbconvert_exporter": "python",
   "pygments_lexer": "ipython3",
   "version": "3.8.5"
  },
  "orig_nbformat": 2,
  "kernelspec": {
   "name": "python385jvsc74a57bd04af592bb51bd06411fd595e6587c9d071cab33ab60f9b52944d78eb993651f61",
   "display_name": "Python 3.8.5 64-bit ('base': conda)"
  }
 },
 "nbformat": 4,
 "nbformat_minor": 2,
 "cells": [
  {
   "source": [
    "# Doc for cleaning and preparing data in python. "
   ],
   "cell_type": "markdown",
   "metadata": {}
  },
  {
   "cell_type": "code",
   "execution_count": null,
   "metadata": {},
   "outputs": [],
   "source": [
    "# import the reader function from the csv module\n",
    "from csv import reader"
   ]
  },
  {
   "cell_type": "code",
   "execution_count": null,
   "metadata": {},
   "outputs": [],
   "source": [
    "# use the python built-in function open()\n",
    "# to open the children.csv file\n",
    "opened_file = open('children.csv')"
   ]
  },
  {
   "cell_type": "code",
   "execution_count": null,
   "metadata": {},
   "outputs": [],
   "source": [
    "# use csv.reader() to parse the data from\n",
    "# the opened file\n",
    "read_file = reader(opened_file)"
   ]
  },
  {
   "cell_type": "code",
   "execution_count": null,
   "metadata": {},
   "outputs": [],
   "source": [
    "# use list() to convert the read file\n",
    "# into a list of lists format\n",
    "children = list(read_file)"
   ]
  },
  {
   "cell_type": "code",
   "execution_count": null,
   "metadata": {},
   "outputs": [],
   "source": [
    "#close the opened file\n",
    "opened_file.close()"
   ]
  },
  {
   "cell_type": "code",
   "execution_count": null,
   "metadata": {},
   "outputs": [],
   "source": [
    "# remove the first row of the data, which\n",
    "# contains the column names\n",
    "children = children[1:]"
   ]
  },
  {
   "source": [
    "Often when we're cleaning data, we need to replace parts of strings so our data is consistent.\n",
    "\n",
    "For example, let's say we have the string \"red is my favorite color\", but we want to change it to \"blue is my favorite color\". To do that, we want to replace the \"red\" part of the string with \"blue\". When we want to refer to part of a string, we use the term substring.\n",
    "\n",
    "In order to do this, we'll learn the str.replace() method. The str.replace() method is like a \"find and replace\" tool for strings.\n",
    "\n",
    "When we use str.replace(), we substitute the str for the variable name of the string we want to modify. Let's look at an example in code:"
   ],
   "cell_type": "markdown",
   "metadata": {}
  },
  {
   "cell_type": "code",
   "execution_count": null,
   "metadata": {},
   "outputs": [],
   "source": [
    "fav_color = \"red is my favorite color\"\n",
    "fav_color = fav_color.replace(\"red\", \"blue\")\n",
    "print(fav_color)"
   ]
  },
  {
   "cell_type": "code",
   "execution_count": 4,
   "metadata": {},
   "outputs": [
    {
     "output_type": "stream",
     "name": "stdout",
     "text": [
      "American\nSpanish\nFrench\n"
     ]
    }
   ],
   "source": [
    "nationalities = ['(American)', '(Spanish)', '(French)']\n",
    "\n",
    "for n in nationalities:\n",
    "    clean_open = n.replace(\"(\",\"\")\n",
    "    clean_both = clean_open.replace(\")\",\"\")\n",
    "    print(clean_both)"
   ]
  },
  {
   "source": [
    "# example code for replacing a sub string\n",
    "for row in moma:\n",
    "    nationality = row[2]\n",
    "    nationality = nationality.replace(\"(\",\"\")\n",
    "    nationality = nationality.replace(\")\",\"\")\n",
    "    row[2] = nationality"
   ],
   "cell_type": "code",
   "metadata": {},
   "execution_count": null,
   "outputs": []
  },
  {
   "source": [
    "The str.title() method returns a copy of the string with the first letter of each word transformed to uppercase (also known as title case).\n",
    "\n",
    "Let's look at an example of this method in action with a simple string:"
   ],
   "cell_type": "markdown",
   "metadata": {}
  },
  {
   "cell_type": "code",
   "execution_count": 5,
   "metadata": {},
   "outputs": [
    {
     "output_type": "stream",
     "name": "stdout",
     "text": [
      "The Cool Thing About This String Is That It Has A Combination Of Uppercase And Lowercase Letters!\n"
     ]
    }
   ],
   "source": [
    "my_string = \"The cool thing about this string is that it has a CoMbInAtIoN of UPPERCASE and lowercase letters!\"\n",
    "\n",
    "my_string_title = my_string.title()\n",
    "print(my_string_title)"
   ]
  },
  {
   "cell_type": "code",
   "execution_count": null,
   "metadata": {},
   "outputs": [],
   "source": [
    "# example code \n",
    "\n",
    "for row in moma:\n",
    "    gender = row[5]\n",
    "\n",
    "    # convert the gender to title case\n",
    "    gender = gender.title()\n",
    "\n",
    "    # if there is no gender, set\n",
    "    # a descriptive value\n",
    "    if not gender:\n",
    "        gender = \"Gender Unknown/Other\"\n",
    "    row[5] = gender\n",
    "    \n",
    "    # Nationality data clean up \n",
    "    nationality = row[2]\n",
    "\n",
    "    # convert the Nationality to title case\n",
    "    nationality = nationality.title()\n",
    "\n",
    "    # if there is no nationality, set\n",
    "    # a descriptive value\n",
    "    if not nationality:\n",
    "        nationality = \"Nationality Unknown\"\n",
    "    row[2] = nationality"
   ]
  },
  {
   "cell_type": "code",
   "execution_count": null,
   "metadata": {},
   "outputs": [],
   "source": [
    "strings = [\"good!\", \"morn?ing\", \"good?!\", \"morniZZZZng\"]\n",
    "bad_chars = [\"!\", \"?\", \"Z\"]\n",
    "\n",
    "# example function to remove multiple substrings\n",
    "\n",
    "def strip_characters(string):\n",
    "    for char in bad_chars:\n",
    "        string = string.replace(char,\"\")\n",
    "    return string\n",
    "\n",
    "# applying the function \n",
    "cleaned_strings = []\n",
    "for s in strings:\n",
    "    s = strip_characters(s)\n",
    "    cleaned_strings.append(s)\n",
    "\n",
    "print(cleaned_strings)\n",
    "\n"
   ]
  },
  {
   "cell_type": "code",
   "execution_count": null,
   "metadata": {},
   "outputs": [],
   "source": [
    "# Example code \n",
    "test_data = [\"1912\", \"1929\", \"1913-1923\",\n",
    "             \"(1951)\", \"1994\", \"1934\",\n",
    "             \"c. 1915\", \"1995\", \"c. 1912\",\n",
    "             \"(1988)\", \"2002\", \"1957-1959\",\n",
    "             \"c. 1955.\", \"c. 1970's\", \n",
    "             \"C. 1990-1999\"]\n",
    "\n",
    "bad_chars = [\"(\",\")\",\"c\",\"C\",\".\",\"s\",\"'\", \" \"]\n",
    "\n",
    "def strip_characters(string):\n",
    "    for char in bad_chars:\n",
    "        string = string.replace(char,\"\")\n",
    "    return string\n",
    "\n",
    "stripped_test_data = ['1912', '1929', '1913-1923',\n",
    "                      '1951', '1994', '1934',\n",
    "                      '1915', '1995', '1912',\n",
    "                      '1988', '2002', '1957-1959',\n",
    "                      '1955', '1970', '1990-1999']\n",
    "def process_date(date):\n",
    "    if \"-\" in date:\n",
    "        split_date = date.split(\"-\")\n",
    "        date_one = split_date[0]\n",
    "        date_two = split_date[1]       \n",
    "        date = (int(date_one) + int(date_two)) / 2\n",
    "        date = round(date)\n",
    "    else:\n",
    "        date = int(date)\n",
    "    return date\n",
    "\n",
    "processed_test_data = []\n",
    "\n",
    "for d in stripped_test_data:\n",
    "    date = process_date(d)\n",
    "    processed_test_data.append(date)\n",
    "\n",
    "for row in moma:\n",
    "    date = row[6]\n",
    "    date = strip_characters(date)\n",
    "    date = process_date(date)\n",
    "    row[6] = date"
   ]
  },
  {
   "source": [
    "The str.format() method is a powerful tool that helps us write easy-to-read code while combining strings with other variables.\n",
    "\n",
    "There are also extra things that str.format() can do with formatting numbers, but for now we'll focus on inserting values into strings."
   ],
   "cell_type": "markdown",
   "metadata": {}
  }
 ]
}