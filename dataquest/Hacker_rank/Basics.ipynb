{
 "cells": [
  {
   "cell_type": "markdown",
   "metadata": {
    "collapsed": true
   },
   "source": [
    "# Exploring Hacker News Posts\n",
    "\n",
    "In this project, I'll be working with a data set of submissions to popular technology site [Hacker News](https://news.ycombinator.com/ \"Hacker News\") \n",
    "\n",
    "![](https://volument.com/blog/img/hn-dirt-big.png)\n",
    "\n",
    "***\n",
    "\n",
    "Hacker News is a site started by the startup incubator [Y combinator](https://www.ycombinator.com/ \"Y combinator\"), where user-submitted stories (known as \"posts\") are voted and commented upon, similar to reddit. Hacker News is extremely popular in technology and startup circles, and posts that make it to the top of Hacker News listing can get hundreds of thousands of vistors as a result.\n",
    "\n",
    "***\n",
    "\n",
    "You can find the data set [here](https://www.kaggle.com/hacker-news/hacker-news-posts/ \"Hacker news data and colums descripitions\"), but note that for this project the data has been reduced from almost 300,000 rows to approximately 20,000 rows by removing all submissions that did not receive any comments, and then randomly sampling from the remaining submissions. Below are descriptions of the columns: \n",
    "- **id**:The unique identifier from Hacker News for the post\n",
    "- **title**:The title of the post \n",
    "- **url**: The URL that the posts links to, if it the post has a URL\n",
    "- **num_points**: The number of points the post acquired, calculated as the total number of upvotes minus the total number of downvotes\n",
    "- **num_comments**: The number of comments that were made on the post\n",
    "- **author**: The username of the person who submitted the post\n",
    "- **author**: The username of the person who submitted the post\n",
    "- **created_at**:The date and time at which the post was submitted\n",
    "\n",
    "***\n",
    "\n",
    "We're specifically interested in posts whose titles begin with either Ask HN or Show HN. Users submit Ask HN posts to ask the Hacker News community a specific question.\n",
    "\n",
    "Likewise, users submit Show HN posts to show the Hacker News community a project, product, or just generally something interesting.\n",
    "\n",
    "We'll compare these two types of posts to determine the following:\n",
    "\n",
    "- Do Ask HN or Show HN receive more comments on average?\n",
    "- Do posts created at a certain time receive more comments on average?\n"
   ]
  },
  {
   "cell_type": "code",
   "execution_count": 12,
   "metadata": {},
   "outputs": [],
   "source": [
    "# import the reader function from the csv module \n",
    "from csv import reader\n",
    "import datetime as dt "
   ]
  },
  {
   "cell_type": "code",
   "execution_count": 6,
   "metadata": {},
   "outputs": [
    {
     "name": "stdout",
     "output_type": "stream",
     "text": [
      "['id', 'title', 'url', 'num_points', 'num_comments', 'author', 'created_at']\n",
      "\n",
      "\n",
      "[['12224879', 'Interactive Dynamic Video', 'http://www.interactivedynamicvideo.com/', '386', '52', 'ne0phyte', '8/4/2016 11:52'], ['10975351', 'How to Use Open Source and Shut the Fuck Up at the Same Time', 'http://hueniverse.com/2016/01/26/how-to-use-open-source-and-shut-the-fuck-up-at-the-same-time/', '39', '10', 'josep2', '1/26/2016 19:30'], ['11964716', \"Florida DJs May Face Felony for April Fools' Water Joke\", 'http://www.thewire.com/entertainment/2013/04/florida-djs-april-fools-water-joke/63798/', '2', '1', 'vezycash', '6/23/2016 22:20'], ['11919867', 'Technology ventures: From Idea to Enterprise', 'https://www.amazon.com/Technology-Ventures-Enterprise-Thomas-Byers/dp/0073523429', '3', '1', 'hswarna', '6/17/2016 0:01'], ['10301696', 'Note by Note: The Making of Steinway L1037 (2007)', 'http://www.nytimes.com/2007/11/07/movies/07stein.html?_r=0', '8', '2', 'walterbell', '9/30/2015 4:12']]\n"
     ]
    }
   ],
   "source": [
    "# use the python built-in function open() to open the csv file\n",
    "opened_file = open('hacker_news.csv')\n",
    "read_file = reader(opened_file)\n",
    "# list of the hacker_news.csv\n",
    "hn_raw = list(read_file)\n",
    "headers = hn_raw[0]\n",
    "hn = hn_raw[1:]\n",
    "# print the first 5 rows\n",
    "print(headers)\n",
    "print('\\n')\n",
    "print(hn[:5])\n",
    "# Close the opened file \n",
    "opened_file.close() \n",
    "\n"
   ]
  },
  {
   "cell_type": "markdown",
   "metadata": {},
   "source": [
    "Now that I've removed the headers from my list of list data, I'm ready to filter our data. Since I'm only concerned with post titles beginning with *Ask HN* or *Show HN*, I'll create new lists of lists containing just the data for those titles. \n",
    "***\n",
    "To find the posts that begin with either *Ask HN* or *Show HN*, I'll use the string method **Startswith** . Given a string object. \n",
    "\n",
    "Capitalization matters, If we wish to control for case, we can use the lower method which returns a lowercase version of the starting string."
   ]
  },
  {
   "cell_type": "code",
   "execution_count": 7,
   "metadata": {},
   "outputs": [
    {
     "name": "stdout",
     "output_type": "stream",
     "text": [
      "1744\n",
      "\n",
      "\n",
      "1162\n",
      "\n",
      "\n",
      "17194\n"
     ]
    }
   ],
   "source": [
    "ask_posts = [] \n",
    "show_posts = [] \n",
    "other_posts = [] \n",
    "# Loop through each row in hn \n",
    "for row in hn: \n",
    "    title = row[1].lower()\n",
    "    if title.startswith('ask hn'):\n",
    "        ask_posts.append(row)\n",
    "    elif title.startswith('show hn'):\n",
    "        show_posts.append(row)\n",
    "    else: \n",
    "        other_posts.append(row)\n",
    "#chek the number for each list \n",
    "num_ask_posts = len(ask_posts)\n",
    "('\\n')\n",
    "num_show_posts = len(show_posts)\n",
    "('\\n')\n",
    "num_other_posts = len(other_posts)\n",
    "\n",
    "print(num_ask_posts)\n",
    "print('\\n')\n",
    "print(num_show_posts)\n",
    "print('\\n')\n",
    "print(num_other_posts)\n",
    "    "
   ]
  },
  {
   "cell_type": "code",
   "execution_count": 11,
   "metadata": {},
   "outputs": [
    {
     "name": "stdout",
     "output_type": "stream",
     "text": [
      "The average of comments on ask posts 14.038417431192661\n",
      "The average of comments on show posts 10.31669535283993\n"
     ]
    }
   ],
   "source": [
    "total_ask_comments = 0 \n",
    "for row in ask_posts:\n",
    "    a_comment = int(row[4])\n",
    "    total_ask_comments += a_comment\n",
    "\n",
    "#commute the average of comments for ask posts \n",
    "avg_ask_comments = total_ask_comments / num_ask_posts\n",
    "print(\"The average of comments on ask posts\", avg_ask_comments)\n",
    "\n",
    "\n",
    "total_show_comments = 0 \n",
    "for row in show_posts:\n",
    "    a_comment = int(row[4])\n",
    "    total_show_comments += a_comment\n",
    "\n",
    "#commute the average of comments for show posts \n",
    "avg_show_comments = total_show_comments / num_show_posts\n",
    "print(\"The average of comments on show posts\", avg_show_comments)\n"
   ]
  },
  {
   "cell_type": "markdown",
   "metadata": {},
   "source": [
    "**Do show posts or ask posts receive more comments on average?**\n",
    "Looking at the result printed above the ask posts receives more comments on average than the show post. This is an intuitive conclusion, becasue the ask posts would require users to engage. \n",
    "\n",
    "Since ask posts are more likely to receive comments, I'll focus our remaining analysis just on these posts.\n",
    "\n",
    "Next, I'll determine if ask posts created at a certain time are more likely to attract comments. I'll use the following steps to perform this analysis:\n",
    "\n",
    "1) Calculate the amount of ask posts created in each hour of the day, along with the number of comments received.\n",
    "\n",
    "2) Calculate the average number of comments ask posts receive by hour created.\n",
    "\n",
    "\n"
   ]
  },
  {
   "cell_type": "code",
   "execution_count": 15,
   "metadata": {},
   "outputs": [
    {
     "name": "stdout",
     "output_type": "stream",
     "text": [
      "{'09': 45, '13': 85, '10': 59, '14': 107, '16': 108, '23': 68, '12': 73, '17': 100, '15': 116, '21': 109, '20': 80, '02': 58, '18': 109, '03': 54, '05': 46, '19': 110, '01': 60, '22': 71, '08': 48, '04': 47, '00': 55, '06': 44, '07': 34, '11': 58}\n",
      "\n",
      "\n",
      "{'09': 251, '13': 1253, '10': 793, '14': 1416, '16': 1814, '23': 543, '12': 687, '17': 1146, '15': 4477, '21': 1745, '20': 1722, '02': 1381, '18': 1439, '03': 421, '05': 464, '19': 1188, '01': 683, '22': 479, '08': 492, '04': 337, '00': 447, '06': 397, '07': 267, '11': 641}\n"
     ]
    }
   ],
   "source": [
    "result_list = [] \n",
    "for row in ask_posts: \n",
    "    created_at = row[6]\n",
    "    a_comment = int(row[4])\n",
    "    two_element_list = [created_at, a_comment]\n",
    "    result_list.append(two_element_list)\n",
    "\n",
    "# Create two empty dictionaies \n",
    "counts_by_hour = {}\n",
    "comments_by_hour = {} \n",
    "for row in result_list:\n",
    "    dt_ob = row[0]\n",
    "    dt_o = dt.datetime.strptime(dt_ob, \"%m/%d/%Y %H:%M\")\n",
    "    post_time = dt_o.strftime(\"%H\")\n",
    "    \n",
    "    if post_time not in counts_by_hour:\n",
    "        counts_by_hour[post_time] = 1\n",
    "        comments_by_hour[post_time] = int(row[1]) \n",
    "    else:\n",
    "        counts_by_hour[post_time] += 1\n",
    "        comments_by_hour[post_time] += int(row[1])\n",
    "        \n",
    "\n",
    "print(counts_by_hour)\n",
    "print('\\n')\n",
    "print(comments_by_hour)       \n",
    "    \n",
    "    \n",
    "    "
   ]
  },
  {
   "cell_type": "markdown",
   "metadata": {},
   "source": [
    "Above I created two dictionaries: \n",
    "\n",
    "- *counts_by_hour* : contains the number of ask posts created during each hour of the day.\n",
    "\n",
    "- *comments_by_hour* : contains the corresponding number of comments ask posts created at each hour received.\n",
    "\n",
    "Next I'll use these two dictionaries to calculate the average number of comments for posts created during during each hour of the day. \n"
   ]
  },
  {
   "cell_type": "code",
   "execution_count": 16,
   "metadata": {
    "scrolled": true
   },
   "outputs": [
    {
     "name": "stdout",
     "output_type": "stream",
     "text": [
      "[['09', 5.5777777777777775], ['13', 14.741176470588234], ['10', 13.440677966101696], ['14', 13.233644859813085], ['16', 16.796296296296298], ['23', 7.985294117647059], ['12', 9.41095890410959], ['17', 11.46], ['15', 38.5948275862069], ['21', 16.009174311926607], ['20', 21.525], ['02', 23.810344827586206], ['18', 13.20183486238532], ['03', 7.796296296296297], ['05', 10.08695652173913], ['19', 10.8], ['01', 11.383333333333333], ['22', 6.746478873239437], ['08', 10.25], ['04', 7.170212765957447], ['00', 8.127272727272727], ['06', 9.022727272727273], ['07', 7.852941176470588], ['11', 11.051724137931034]]\n"
     ]
    }
   ],
   "source": [
    "# calculate the average number of comments per post for post created during each hour of the day\n",
    "avg_by_hour = [] \n",
    "for key in comments_by_hour:\n",
    "    avg_comments = comments_by_hour[key] / counts_by_hour[key]\n",
    "    avg_by_hour.append([key, avg_comments])\n",
    "print(avg_by_hour)"
   ]
  },
  {
   "cell_type": "markdown",
   "metadata": {},
   "source": [
    "Above I calculated the average number of comments for post created during each hour of the day and stored the results in a list of list named **avg_by_hour**. For readability I'll improve the output of the result to make the result easier to digest. "
   ]
  },
  {
   "cell_type": "code",
   "execution_count": 21,
   "metadata": {},
   "outputs": [
    {
     "name": "stdout",
     "output_type": "stream",
     "text": [
      "[[5.5777777777777775, '09'], [14.741176470588234, '13'], [13.440677966101696, '10'], [13.233644859813085, '14'], [16.796296296296298, '16'], [7.985294117647059, '23'], [9.41095890410959, '12'], [11.46, '17'], [38.5948275862069, '15'], [16.009174311926607, '21'], [21.525, '20'], [23.810344827586206, '02'], [13.20183486238532, '18'], [7.796296296296297, '03'], [10.08695652173913, '05'], [10.8, '19'], [11.383333333333333, '01'], [6.746478873239437, '22'], [10.25, '08'], [7.170212765957447, '04'], [8.127272727272727, '00'], [9.022727272727273, '06'], [7.852941176470588, '07'], [11.051724137931034, '11']]\n",
      "Top 5 Hours for Ask posts Comments [[38.5948275862069, '15'], [23.810344827586206, '02'], [21.525, '20'], [16.796296296296298, '16'], [16.009174311926607, '21'], [14.741176470588234, '13'], [13.440677966101696, '10'], [13.233644859813085, '14'], [13.20183486238532, '18'], [11.46, '17'], [11.383333333333333, '01'], [11.051724137931034, '11'], [10.8, '19'], [10.25, '08'], [10.08695652173913, '05'], [9.41095890410959, '12'], [9.022727272727273, '06'], [8.127272727272727, '00'], [7.985294117647059, '23'], [7.852941176470588, '07'], [7.796296296296297, '03'], [7.170212765957447, '04'], [6.746478873239437, '22'], [5.5777777777777775, '09']]\n",
      "15:00: 38.59 average comments per post\n",
      "02:00: 23.81 average comments per post\n",
      "20:00: 21.52 average comments per post\n",
      "16:00: 16.80 average comments per post\n",
      "21:00: 16.01 average comments per post\n"
     ]
    }
   ],
   "source": [
    "\n",
    "swap_avg_by_hour = []\n",
    "for row in avg_by_hour: \n",
    "    first_e = row[0]\n",
    "    second_e = row[1]\n",
    "    elements = [second_e, first_e]\n",
    "    swap_avg_by_hour.append(elements)\n",
    "print(swap_avg_by_hour)\n",
    "\n",
    "#Since the first column of this list is the average number of comments, sorting the list will sort by the average number of comments\n",
    "sorted_swap = sorted(swap_avg_by_hour, reverse = True)\n",
    "\n",
    "print(\"Top 5 Hours for Ask posts Comments\", sorted_swap)\n",
    "\n",
    "for row in sorted_swap[:5]:\n",
    "    f_ho = dt.datetime.strptime(row[1], \"%H\")\n",
    "    f_h = f_ho.strftime(\"%H:%M\")\n",
    "    string = \"{}: {:.2f} average comments per post\".format(f_h, row[0])\n",
    "    print(string)\n",
    "    \n",
    "    \n",
    "    \n",
    "\n",
    "\n",
    "\n",
    "\n"
   ]
  },
  {
   "cell_type": "markdown",
   "metadata": {},
   "source": [
    "# # Conclusion\n",
    "\n",
    "\n",
    "Looking at my results above the ideal time to post and optimise user engagement is late in the afternoon between *1500-1600* and in the early hours of the morning at *0200*. \n",
    "\n",
    "The night is also a good time between *2000-2100*.  \n",
    "\n"
   ]
  }
 ],
 "metadata": {
  "kernelspec": {
   "display_name": "Python 3",
   "language": "python",
   "name": "python3"
  },
  "language_info": {
   "codemirror_mode": {
    "name": "ipython",
    "version": 3
   },
   "file_extension": ".py",
   "mimetype": "text/x-python",
   "name": "python",
   "nbconvert_exporter": "python",
   "pygments_lexer": "ipython3",
   "version": "3.8.2"
  }
 },
 "nbformat": 4,
 "nbformat_minor": 2
}