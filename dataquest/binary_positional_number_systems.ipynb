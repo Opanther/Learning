{
 "metadata": {
  "language_info": {
   "codemirror_mode": {
    "name": "ipython",
    "version": 3
   },
   "file_extension": ".py",
   "mimetype": "text/x-python",
   "name": "python",
   "nbconvert_exporter": "python",
   "pygments_lexer": "ipython3",
   "version": 3
  },
  "orig_nbformat": 2
 },
 "nbformat": 4,
 "nbformat_minor": 2,
 "cells": [
  {
   "source": [
    "- Converting a string representing a number of a given base to base 10: \n",
    "```python\n",
    "int('1101', 2)\n",
    "int('42042', 5)\n",
    "int('FF0A', 16)\n",
    "```\n",
    "- Converting from a base 10 to binary: \n",
    "- Converting a string representing a number of a given base to base 10 \n",
    "```python\n",
    "bin(1234)\n",
    "```\n",
    "- Converting from base 10 to octal: #\n",
    "```python\n",
    "oct(1234)\n",
    "```\n",
    "- Converting from base 10 to hexadecimal \n",
    "```python\n",
    "hex(1234)\n",
    "```\n",
    "\n"
   ],
   "cell_type": "markdown",
   "metadata": {}
  },
  {
   "source": [
    "In order to represent more complex information such as text, all that is needed is to define a set of rules that translates the information that we want to represent into a sequence of zeros and ones. The simplest kind of rule that we can define is a table that explicitly tells us the binary representation of each object that we want to represent. Such a rule is called an encoding.\n",
    "\n",
    "This is an important skill for you to have as a data engineer because you will need to handle textual data coming from a wide variety of different sources and store that data in a database. This database will use some mechanism to encode the data and it is likely that this will be different than the one used to encode the data that you want to store. Therefore you will need to be able to convert the data before being able to store it.\n",
    "\n",
    "\n",
    "```python\n",
    "# This is for me, i can't call a function inside a function.\n",
    "def check_uppercase(args):\n",
    "    for letters in args:\n",
    "        if not (ord(letters) >= 65 and ord(letters)<=90):\n",
    "            return False\n",
    "    return True\n",
    "```\n",
    "\n"
   ],
   "cell_type": "markdown",
   "metadata": {}
  }
 ]
}